{
 "cells": [
  {
   "cell_type": "code",
   "execution_count": 1,
   "id": "fc9490da-45a0-4d2f-b9a8-8122e5518171",
   "metadata": {},
   "outputs": [
    {
     "name": "stdout",
     "output_type": "stream",
     "text": [
      "[info]necessary libraries imported successfully...\n",
      "[info]data loaded successfully...\n"
     ]
    },
    {
     "data": {
      "text/html": [
       "<div>\n",
       "<style scoped>\n",
       "    .dataframe tbody tr th:only-of-type {\n",
       "        vertical-align: middle;\n",
       "    }\n",
       "\n",
       "    .dataframe tbody tr th {\n",
       "        vertical-align: top;\n",
       "    }\n",
       "\n",
       "    .dataframe thead th {\n",
       "        text-align: right;\n",
       "    }\n",
       "</style>\n",
       "<table border=\"1\" class=\"dataframe\">\n",
       "  <thead>\n",
       "    <tr style=\"text-align: right;\">\n",
       "      <th></th>\n",
       "      <th>Unnamed: 0</th>\n",
       "      <th>trans_date_trans_time</th>\n",
       "      <th>cc_num</th>\n",
       "      <th>merchant</th>\n",
       "      <th>category</th>\n",
       "      <th>amt</th>\n",
       "      <th>first</th>\n",
       "      <th>last</th>\n",
       "      <th>gender</th>\n",
       "      <th>street</th>\n",
       "      <th>...</th>\n",
       "      <th>lat</th>\n",
       "      <th>long</th>\n",
       "      <th>city_pop</th>\n",
       "      <th>job</th>\n",
       "      <th>dob</th>\n",
       "      <th>trans_num</th>\n",
       "      <th>unix_time</th>\n",
       "      <th>merch_lat</th>\n",
       "      <th>merch_long</th>\n",
       "      <th>is_fraud</th>\n",
       "    </tr>\n",
       "  </thead>\n",
       "  <tbody>\n",
       "    <tr>\n",
       "      <th>0</th>\n",
       "      <td>0</td>\n",
       "      <td>2020-06-21 12:14:25</td>\n",
       "      <td>2291163933867244</td>\n",
       "      <td>fraud_Kirlin and Sons</td>\n",
       "      <td>personal_care</td>\n",
       "      <td>2.86</td>\n",
       "      <td>Jeff</td>\n",
       "      <td>Elliott</td>\n",
       "      <td>M</td>\n",
       "      <td>351 Darlene Green</td>\n",
       "      <td>...</td>\n",
       "      <td>33.9659</td>\n",
       "      <td>-80.9355</td>\n",
       "      <td>333497</td>\n",
       "      <td>Mechanical engineer</td>\n",
       "      <td>1968-03-19</td>\n",
       "      <td>2da90c7d74bd46a0caf3777415b3ebd3</td>\n",
       "      <td>1371816865</td>\n",
       "      <td>33.986391</td>\n",
       "      <td>-81.200714</td>\n",
       "      <td>0</td>\n",
       "    </tr>\n",
       "    <tr>\n",
       "      <th>1</th>\n",
       "      <td>1</td>\n",
       "      <td>2020-06-21 12:14:33</td>\n",
       "      <td>3573030041201292</td>\n",
       "      <td>fraud_Sporer-Keebler</td>\n",
       "      <td>personal_care</td>\n",
       "      <td>29.84</td>\n",
       "      <td>Joanne</td>\n",
       "      <td>Williams</td>\n",
       "      <td>F</td>\n",
       "      <td>3638 Marsh Union</td>\n",
       "      <td>...</td>\n",
       "      <td>40.3207</td>\n",
       "      <td>-110.4360</td>\n",
       "      <td>302</td>\n",
       "      <td>Sales professional, IT</td>\n",
       "      <td>1990-01-17</td>\n",
       "      <td>324cc204407e99f51b0d6ca0055005e7</td>\n",
       "      <td>1371816873</td>\n",
       "      <td>39.450498</td>\n",
       "      <td>-109.960431</td>\n",
       "      <td>0</td>\n",
       "    </tr>\n",
       "    <tr>\n",
       "      <th>2</th>\n",
       "      <td>2</td>\n",
       "      <td>2020-06-21 12:14:53</td>\n",
       "      <td>3598215285024754</td>\n",
       "      <td>fraud_Swaniawski, Nitzsche and Welch</td>\n",
       "      <td>health_fitness</td>\n",
       "      <td>41.28</td>\n",
       "      <td>Ashley</td>\n",
       "      <td>Lopez</td>\n",
       "      <td>F</td>\n",
       "      <td>9333 Valentine Point</td>\n",
       "      <td>...</td>\n",
       "      <td>40.6729</td>\n",
       "      <td>-73.5365</td>\n",
       "      <td>34496</td>\n",
       "      <td>Librarian, public</td>\n",
       "      <td>1970-10-21</td>\n",
       "      <td>c81755dbbbea9d5c77f094348a7579be</td>\n",
       "      <td>1371816893</td>\n",
       "      <td>40.495810</td>\n",
       "      <td>-74.196111</td>\n",
       "      <td>0</td>\n",
       "    </tr>\n",
       "  </tbody>\n",
       "</table>\n",
       "<p>3 rows × 23 columns</p>\n",
       "</div>"
      ],
      "text/plain": [
       "   Unnamed: 0 trans_date_trans_time            cc_num  \\\n",
       "0           0   2020-06-21 12:14:25  2291163933867244   \n",
       "1           1   2020-06-21 12:14:33  3573030041201292   \n",
       "2           2   2020-06-21 12:14:53  3598215285024754   \n",
       "\n",
       "                               merchant        category    amt   first  \\\n",
       "0                 fraud_Kirlin and Sons   personal_care   2.86    Jeff   \n",
       "1                  fraud_Sporer-Keebler   personal_care  29.84  Joanne   \n",
       "2  fraud_Swaniawski, Nitzsche and Welch  health_fitness  41.28  Ashley   \n",
       "\n",
       "       last gender                street  ...      lat      long  city_pop  \\\n",
       "0   Elliott      M     351 Darlene Green  ...  33.9659  -80.9355    333497   \n",
       "1  Williams      F      3638 Marsh Union  ...  40.3207 -110.4360       302   \n",
       "2     Lopez      F  9333 Valentine Point  ...  40.6729  -73.5365     34496   \n",
       "\n",
       "                      job         dob                         trans_num  \\\n",
       "0     Mechanical engineer  1968-03-19  2da90c7d74bd46a0caf3777415b3ebd3   \n",
       "1  Sales professional, IT  1990-01-17  324cc204407e99f51b0d6ca0055005e7   \n",
       "2       Librarian, public  1970-10-21  c81755dbbbea9d5c77f094348a7579be   \n",
       "\n",
       "    unix_time  merch_lat  merch_long  is_fraud  \n",
       "0  1371816865  33.986391  -81.200714         0  \n",
       "1  1371816873  39.450498 -109.960431         0  \n",
       "2  1371816893  40.495810  -74.196111         0  \n",
       "\n",
       "[3 rows x 23 columns]"
      ]
     },
     "execution_count": 1,
     "metadata": {},
     "output_type": "execute_result"
    }
   ],
   "source": [
    "import numpy as np\n",
    "import pandas as pd\n",
    "import seaborn as sns\n",
    "import matplotlib.pyplot as plt\n",
    "%matplotlib inline\n",
    "\n",
    "print('[info]necessary libraries imported successfully...')\n",
    "data = pd.read_csv('fraudTest.csv')\n",
    "print('[info]data loaded successfully...')\n",
    "data.head(3)"
   ]
  },
  {
   "cell_type": "code",
   "execution_count": 2,
   "id": "0c7f7f7d-558b-4cc5-8ce8-a7c747163e2d",
   "metadata": {},
   "outputs": [],
   "source": [
    "data.drop(columns=['Unnamed: 0','street','state','first','last','trans_num','unix_time'],inplace=True)\n",
    "data['trans_date_trans_time'] = pd.to_datetime(data['trans_date_trans_time'],format='mixed')\n",
    "data['hour'] = data['trans_date_trans_time'].dt.hour\n",
    "data['day'] = data['trans_date_trans_time'].dt.day_name()\n",
    "data['month'] = data['trans_date_trans_time'].dt.month\n",
    "data['merchant'] = data['merchant'].apply(lambda x : x.replace('fraud_',''))\n",
    "data[['merchant']].head()\n",
    "data['gender'].value_counts()\n",
    "gender_text_to_num = {'M':1,'F':0}\n",
    "data['gender'] = data['gender'].map(gender_text_to_num)\n",
    "data['category'].unique()\n",
    "category_text_to_num = {'personal_care':1, 'health_fitness':2, 'misc_pos':3, 'travel':4,\n",
    "       'kids_pets':5, 'shopping_pos':6, 'food_dining':7, 'home':8,\n",
    "       'entertainment':9, 'shopping_net':10, 'misc_net':11, 'grocery_pos':12,\n",
    "       'gas_transport':13, 'grocery_net':14}\n",
    "data['category'] = data['category'].map(category_text_to_num)\n",
    "data['dob'] = pd.to_datetime(data['dob'],format='mixed')\n",
    "data['age'] = (data['trans_date_trans_time'].dt.year - data['dob'].dt.year).astype(int)\n",
    "data.drop(columns='dob',inplace=True)"
   ]
  },
  {
   "cell_type": "code",
   "execution_count": 3,
   "id": "be3e8f97-38c0-4127-8857-7de1b96a09e5",
   "metadata": {},
   "outputs": [
    {
     "name": "stdout",
     "output_type": "stream",
     "text": [
      "data segregation Completed...\n",
      "[info]Data Splitting complete\n"
     ]
    },
    {
     "name": "stderr",
     "output_type": "stream",
     "text": [
      "C:\\Users\\HP\\anaconda3\\envs\\main\\lib\\site-packages\\sklearn\\linear_model\\_logistic.py:460: ConvergenceWarning: lbfgs failed to converge (status=2):\n",
      "ABNORMAL_TERMINATION_IN_LNSRCH.\n",
      "\n",
      "Increase the number of iterations (max_iter) or scale the data as shown in:\n",
      "    https://scikit-learn.org/stable/modules/preprocessing.html\n",
      "Please also refer to the documentation for alternative solver options:\n",
      "    https://scikit-learn.org/stable/modules/linear_model.html#logistic-regression\n",
      "  n_iter_i = _check_optimize_result(\n"
     ]
    },
    {
     "name": "stdout",
     "output_type": "stream",
     "text": [
      "accuracy score 0.9960771611602965\n",
      "[info]knn model training complete\n"
     ]
    }
   ],
   "source": [
    "data = data.sample(frac=1)\n",
    "\n",
    "x = data[[ 'cc_num', 'category', 'amt',\n",
    "       'gender', 'zip', 'lat', 'long', 'city_pop','merch_lat',\n",
    "       'merch_long', 'hour', 'month', 'age']].values\n",
    "y = data['is_fraud'].values\n",
    "\n",
    "\n",
    "print('data segregation Completed...')\n",
    "from sklearn.model_selection import train_test_split\n",
    " \n",
    "x_train, x_test, y_train, y_test = train_test_split(x,y,test_size=0.2,random_state=100)\n",
    "print('[info]Data Splitting complete')\n",
    "data = data.sample(frac=1)\n",
    "\n",
    "x = data[[ 'cc_num', 'category', 'amt',\n",
    "       'gender', 'zip', 'lat', 'long', 'city_pop','merch_lat',\n",
    "       'merch_long', 'hour', 'month', 'age']].values\n",
    "y = data['is_fraud'].values\n",
    "\n",
    "\n",
    "from sklearn.model_selection import train_test_split\n",
    " \n",
    "x_train, x_test, y_train, y_test = train_test_split(x,y,test_size=0.1)\n",
    "\n",
    "from sklearn.linear_model import LogisticRegression\n",
    "lr = LogisticRegression()\n",
    "lr.fit(x_train,y_train)\n",
    "y_pred = lr.predict(x_test)\n",
    "\n",
    "from sklearn.metrics import accuracy_score\n",
    "print('accuracy score',accuracy_score(y_test,y_pred))\n",
    "from sklearn.neighbors import KNeighborsClassifier\n",
    "knn = KNeighborsClassifier()\n",
    "knn.fit(x_train,y_train)\n",
    "\n",
    "print('[info]knn model training complete')"
   ]
  },
  {
   "cell_type": "code",
   "execution_count": 7,
   "id": "6f2aa40e-7612-44bd-a9d5-f4285870e951",
   "metadata": {},
   "outputs": [
    {
     "name": "stdout",
     "output_type": "stream",
     "text": [
      "Model Parameters :\n",
      "\n",
      "\n",
      "Accuracy: 0.9966349960411718\n",
      "Precision: 0.6054421768707483\n"
     ]
    }
   ],
   "source": [
    "knn_pred = knn.predict(x_test)\n",
    "from sklearn.metrics import accuracy_score,precision_score\n",
    "\n",
    "print('Model Parameters :\\n\\n')\n",
    "print('Accuracy:',accuracy_score(y_test,knn_pred))\n",
    "print('Precision:',precision_score(y_test,knn_pred))"
   ]
  },
  {
   "cell_type": "code",
   "execution_count": 24,
   "id": "9e1c28a1-c2a3-4c15-9adb-f88c11036a64",
   "metadata": {},
   "outputs": [],
   "source": [
    "#Let's apply SMOTE over sampling to make balance between fraud and non-fraud data and see if there is a significant different\n",
    "#Between the accuracies or not\n",
    "from imblearn.over_sampling import SMOTE\n",
    "smote = SMOTE()\n",
    "x_train,y_train = smote.fit_resample(x_train,y_train)"
   ]
  },
  {
   "cell_type": "code",
   "execution_count": 29,
   "id": "4cf83b5f-1285-4d2a-be4c-4c2d42602734",
   "metadata": {},
   "outputs": [
    {
     "data": {
      "image/png": "[encoded data removed]",
      "text/plain": [
       "<Figure size 400x400 with 1 Axes>"
      ]
     },
     "metadata": {},
     "output_type": "display_data"
    }
   ],
   "source": [
    "import matplotlib.pyplot as plt\n",
    "import numpy as np\n",
    "\n",
    "# Assuming y_train is a NumPy array\n",
    "unique, counts = np.unique(y_train, return_counts=True)\n",
    "\n",
    "labels = ['Fraud', 'Non-Fraud']  # Custom labels for the pie chart sections\n",
    "\n",
    "plt.figure(figsize=(4, 4))\n",
    "plt.pie(counts, labels=labels, autopct='%.2f%%', textprops={'color': 'white'})\n",
    "plt.legend()\n",
    "plt.show()\n"
   ]
  },
  {
   "cell_type": "code",
   "execution_count": null,
   "id": "88fa1df7-416e-4252-a07a-b9f499bd16e1",
   "metadata": {},
   "outputs": [],
   "source": []
  },
  {
   "cell_type": "markdown",
   "id": "7e2371b3-4f6f-449d-b414-e63e537e117e",
   "metadata": {},
   "source": [
    "* **Recall (Sensitivity):**\n",
    "    * High Recall is crucial in fraud detection to minimize the number of false negatives (missed fraud cases).\n",
    "    * A higher Recall indicates better sensitivity to detecting fraudulent transactions.\n",
    "* **Precision:**\n",
    "    * Precision is important to minimize false positives.\n",
    "    * In fraud detection, a false positive might lead to inconveniencing legitimate customers.\n",
    "    * Balancing precision and recall is essential.\n",
    "* **F1-Score:**\n",
    "    * F1-Score provides a balance between precision and recall.\n",
    "    * A higher F1-Score indicates a better balance between minimizing false positives and false negatives.\n",
    "* **Accuracy:**\n",
    "    * While high accuracy is generally desirable, in imbalanced datasets (where fraud cases are rare), it might not bethe         * most informative metric.\n",
    "    * A model could achieve high accuracy by predicting the majority class.\n"
   ]
  },
  {
   "cell_type": "code",
   "execution_count": null,
   "id": "fd5fd0ac-1aa2-4d97-9b76-2797129722fb",
   "metadata": {},
   "outputs": [],
   "source": []
  }
 ],
 "metadata": {
  "kernelspec": {
   "display_name": "Python 3 (ipykernel)",
   "language": "python",
   "name": "python3"
  },
  "language_info": {
   "codemirror_mode": {
    "name": "ipython",
    "version": 3
   },
   "file_extension": ".py",
   "mimetype": "text/x-python",
   "name": "python",
   "nbconvert_exporter": "python",
   "pygments_lexer": "ipython3",
   "version": "3.10.13"
  }
 },
 "nbformat": 4,
 "nbformat_minor": 5
}
